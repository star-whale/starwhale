{
 "cells": [
  {
   "cell_type": "markdown",
   "id": "0FbdKuCIQD1y",
   "metadata": {
    "id": "0FbdKuCIQD1y"
   },
   "source": [
    "## Requirements\n",
    "* python >= 3.7\n",
    "* [jq](https://stedolan.github.io/jq/)"
   ]
  },
  {
   "cell_type": "code",
   "execution_count": null,
   "id": "Usn10fIUQZKC",
   "metadata": {
    "id": "Usn10fIUQZKC"
   },
   "outputs": [],
   "source": [
    "! apt install -y jq"
   ]
  },
  {
   "cell_type": "markdown",
   "id": "BoJBCcFE52bS",
   "metadata": {
    "id": "BoJBCcFE52bS"
   },
   "source": [
    "## Clone repo and init env"
   ]
  },
  {
   "cell_type": "code",
   "execution_count": null,
   "id": "adWDRbxT5zsG",
   "metadata": {
    "id": "adWDRbxT5zsG"
   },
   "outputs": [],
   "source": [
    "%%bash\n",
    "[ ! -d starwhale ] && git clone https://github.com/star-whale/starwhale\n",
    "cd starwhale/example/mnist/\n",
    "git lfs pull\n",
    "pip install --upgrade pip && pip install starwhale -U"
   ]
  },
  {
   "cell_type": "markdown",
   "id": "zoPNvsBDQ8w-",
   "metadata": {
    "id": "zoPNvsBDQ8w-"
   },
   "source": [
    "## Run Mnist demo"
   ]
  },
  {
  "cell_type": "code",
  "source": [
    "%cd starwhale/example/mnist/"
  ],
  "metadata": {
    "id": "WGao7rqqo0Qm"
  },
  "id": "WGao7rqqo0Qm",
  "execution_count": null,
  "outputs": []
},
{
   "cell_type": "code",
   "execution_count": null,
   "id": "lA3w3A44XqUc",
   "metadata": {
    "id": "lA3w3A44XqUc"
   },
   "outputs": [],
   "source": [
    "%%bash\n",
    "ls -lha\n",
    "swcli runtime quickstart shell . --python-env=venv --create-env --name pytorch-mnist --force\n",
    ". .venv/bin/activate\n",
	"python3 -m pip install -r requirements-sw-lock.txt  --pre -U"
   ]
  },
  {
   "cell_type": "code",
   "execution_count": null,
   "id": "5057d8a2-e38a-4837-8cd9-042b4c9791d0",
   "metadata": {
    "id": "5057d8a2-e38a-4837-8cd9-042b4c9791d0"
   },
   "outputs": [],
   "source": [
    "%%bash\n",
    ". .venv/bin/activate\n",
    "swcli instance select local\n",
    "swcli runtime build . && swcli runtime list"
   ]
  },
  {
   "cell_type": "code",
   "execution_count": null,
   "id": "fca3b29a-8eea-4882-99fc-2bca3e75757f",
   "metadata": {
    "id": "fca3b29a-8eea-4882-99fc-2bca3e75757f"
   },
   "outputs": [],
   "source": [
    "! . .venv/bin/activate; swcli model build . && swcli model list"
   ]
  },
  {
   "cell_type": "code",
   "execution_count": null,
   "id": "a8cab859-212b-41c4-bf5f-10b4e588ff3a",
   "metadata": {
    "id": "a8cab859-212b-41c4-bf5f-10b4e588ff3a"
   },
   "outputs": [],
   "source": [
    "%%bash\n",
    "\n",
    "mkdir -p data && pushd data\n",
    "[[ ! -f train-images-idx3-ubyte ]] && wget http://yann.lecun.com/exdb/mnist/train-images-idx3-ubyte.gz\n",
    "[[ ! -f train-labels-idx1-ubyte ]] && wget http://yann.lecun.com/exdb/mnist/train-labels-idx1-ubyte.gz\n",
    "[[ ! -f t10k-images-idx3-ubyte ]] && wget http://yann.lecun.com/exdb/mnist/t10k-images-idx3-ubyte.gz\n",
    "[[ ! -f t10k-labels-idx1-ubyte ]] && wget http://yann.lecun.com/exdb/mnist/t10k-labels-idx1-ubyte.gz\n",
    "\n",
    "find . -maxdepth 1 -type f -name \"*.gz\" 2>/dev/null | xargs -I{} sh -c \"echo {} && gzip -d {}\"  \n",
    "popd"
   ]
  },
  {
   "cell_type": "code",
   "execution_count": null,
   "id": "132d75f9-11d0-455a-9a4a-b8f37b9c221c",
   "metadata": {
    "id": "132d75f9-11d0-455a-9a4a-b8f37b9c221c"
   },
   "outputs": [],
   "source": [
    "! . .venv/bin/activate; swcli dataset build . && swcli dataset list"
   ]
  },
  {
   "cell_type": "code",
   "execution_count": null,
   "id": "3f2a6b70-d753-47ee-bb33-41571bac2b69",
   "metadata": {
    "id": "3f2a6b70-d753-47ee-bb33-41571bac2b69"
   },
   "outputs": [],
   "source": [
    "%%bash\n",
    ". .venv/bin/activate; \n",
    "swcli eval run --model mnist/version/latest --dataset mnist/version/latest\n",
    "swcli eval list"
   ]
  },
  {
  "cell_type": "code",
  "source": [
    "! . .venv/bin/activate; swcli -o json eval list | jq -r '. | first | .manifest.version'"
  ],
  "metadata": {
    "id": "MKZ_YHHayG2J"
  },
  "id": "MKZ_YHHayG2J",
  "execution_count": null,
  "outputs": []
},
{
   "cell_type": "markdown",
   "id": "7GGJPaLxRHWm",
   "metadata": {
    "id": "7GGJPaLxRHWm"
   },
   "source": [
    "## Get and show results"
   ]
  },
  {
   "cell_type": "code",
   "execution_count": null,
   "id": "fab6e3f6-9ce2-49f8-8fc0-0453b9301a82",
   "metadata": {
    "id": "fab6e3f6-9ce2-49f8-8fc0-0453b9301a82"
   },
   "outputs": [],
   "source": [
    "! . .venv/bin/activate; env COLUMNS=150 swcli eval info $(swcli -o json eval list | jq -r '. | first | .manifest.version')"
   ]
  },
  {
   "cell_type": "code",
   "execution_count": null,
   "id": "687a6561-e10b-4956-ab3f-6ac0794f5b5e",
   "metadata": {
    "id": "687a6561-e10b-4956-ab3f-6ac0794f5b5e"
   },
   "outputs": [],
   "source": [
    "! pip install matplotlib\n",
    "\n",
    "import subprocess\n",
    "import json\n",
    "\n",
    "cmd = \". .venv/bin/activate; swcli -o json eval info $(swcli -o json eval list | jq -r '. | first | .manifest.version')\"\n",
    "result = subprocess.check_output(cmd, shell=True)\n",
    "data = json.loads(result)['report']"
   ]
  },
  {
   "cell_type": "code",
   "execution_count": null,
   "id": "3f27afe5-c0c9-43fb-927e-c966bec2ca93",
   "metadata": {
    "id": "3f27afe5-c0c9-43fb-927e-c966bec2ca93"
   },
   "outputs": [],
   "source": [
    "! pip install seaborn"
   ]
  },
  {
   "cell_type": "code",
   "execution_count": null,
   "id": "4de18708-156d-4c40-a188-f34313be11cd",
   "metadata": {
    "id": "4de18708-156d-4c40-a188-f34313be11cd"
   },
   "outputs": [],
   "source": [
    "import seaborn as sns\n",
    "import matplotlib.pyplot as plt\n",
    "\n",
    "fig, ax = plt.subplots(figsize=(12,8), dpi= 100, facecolor='w', edgecolor='k')\n",
    "cm = data['confusion_matrix']['binarylabel']\n",
    "cm = [list(i.values())[:-1] for i in cm]\n",
    "ax = sns.heatmap(cm, ax=ax, annot=True, cmap='Greens', fmt='.4f')\n",
    "ax.invert_yaxis()"
   ]
  }
 ],
 "metadata": {
  "colab": {
   "collapsed_sections": [],
   "name": "mnist.ipynb",
   "provenance": [],
   "toc_visible": true
  },
  "kernelspec": {
   "display_name": "Python 3 (ipykernel)",
   "language": "python",
   "name": "python3"
  },
  "language_info": {
   "codemirror_mode": {
    "name": "ipython",
    "version": 3
   },
   "file_extension": ".py",
   "mimetype": "text/x-python",
   "name": "python",
   "nbconvert_exporter": "python",
   "pygments_lexer": "ipython3",
   "version": "3.7.13"
  },
  "vscode": {
   "interpreter": {
    "hash": "73a59af80c7a802d24b27215ec5658ae22df73bb05426a831dd423e9a95076c9"
   }
  }
 },
 "nbformat": 4,
 "nbformat_minor": 5
}
